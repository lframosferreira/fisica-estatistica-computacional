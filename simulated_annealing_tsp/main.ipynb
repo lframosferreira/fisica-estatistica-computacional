{
 "cells": [
  {
   "attachments": {},
   "cell_type": "markdown",
   "metadata": {},
   "source": [
    "# Simulated annealing - Caixeiro Viajante\n",
    "## Luís Felipe Ramos Ferreira - 2019022553"
   ]
  },
  {
   "cell_type": "code",
   "execution_count": 57,
   "metadata": {},
   "outputs": [],
   "source": [
    "import numpy as np\n",
    "import numpy.typing as npt\n",
    "import scipy\n",
    "import matplotlib.pyplot as plt"
   ]
  },
  {
   "cell_type": "code",
   "execution_count": 70,
   "metadata": {},
   "outputs": [],
   "source": [
    "def generate_random_graph(number_of_nodes: np.int_) -> npt.NDArray[np.float_]:\n",
    "    nodes: npt.NDArray[np.float_] = np.random.rand(number_of_nodes, 2)\n",
    "    adjacency_matrix: npt.NDArray[np.float_] = scipy.spatial.distance_matrix(nodes, nodes)\n",
    "    return adjacency_matrix, nodes\n",
    "\n",
    "def plot_path(nodes: npt.NDArray[np.float_], path: npt.NDArray[np.int_]) -> None:\n",
    "    plt.scatter(nodes[:, 0], nodes[:,1], c=\"black\")\n",
    "    for i in range(path.shape[0] - 1):\n",
    "        x_coordinates: npt.NDArray[np.float_] = np.array([nodes[path[i]][0], nodes[path[i + 1]][0]])\n",
    "        y_coordinates: npt.NDArray[np.float_] = np.array([nodes[path[i]][1], nodes[path[i + 1]][1]])\n",
    "        plt.plot(x_coordinates, y_coordinates, \"r-\", c=\"grey\")"
   ]
  },
  {
   "cell_type": "code",
   "execution_count": 92,
   "metadata": {},
   "outputs": [
    {
     "ename": "TypeError",
     "evalue": "list indices must be integers or slices, not tuple",
     "output_type": "error",
     "traceback": [
      "\u001b[0;31m---------------------------------------------------------------------------\u001b[0m",
      "\u001b[0;31mTypeError\u001b[0m                                 Traceback (most recent call last)",
      "Cell \u001b[0;32mIn[92], line 13\u001b[0m\n\u001b[1;32m      8\u001b[0m     ss \u001b[39m=\u001b[39m [[\u001b[39m0\u001b[39m, \u001b[39m0\u001b[39m]]\n\u001b[1;32m      9\u001b[0m     \u001b[39mreturn\u001b[39;00m np\u001b[39m.\u001b[39msum(graph[[ss[:,\u001b[39m0\u001b[39m], ss[:,\u001b[39m0\u001b[39m]]])\n\u001b[0;32m---> 13\u001b[0m tsp(\u001b[39m5\u001b[39;49m)\n",
      "Cell \u001b[0;32mIn[92], line 9\u001b[0m, in \u001b[0;36mtsp\u001b[0;34m(number_of_cities)\u001b[0m\n\u001b[1;32m      7\u001b[0m first_path_cost: np\u001b[39m.\u001b[39mfloat_ \u001b[39m=\u001b[39m \u001b[39m0\u001b[39m\n\u001b[1;32m      8\u001b[0m ss \u001b[39m=\u001b[39m [[\u001b[39m0\u001b[39m, \u001b[39m0\u001b[39m]]\n\u001b[0;32m----> 9\u001b[0m \u001b[39mreturn\u001b[39;00m np\u001b[39m.\u001b[39msum(graph[[ss[:,\u001b[39m0\u001b[39;49m], ss[:,\u001b[39m0\u001b[39m]]])\n",
      "\u001b[0;31mTypeError\u001b[0m: list indices must be integers or slices, not tuple"
     ]
    }
   ],
   "source": [
    "def tsp(number_of_cities: np.int_) -> npt.NDArray[np.int_]:\n",
    "    graph, nodes = generate_random_graph(number_of_nodes=number_of_cities)\n",
    "    random_path: npt.NDArray[np.int_] = np.arange(number_of_cities)\n",
    "    np.random.shuffle(random_path)\n",
    "    random_path = np.append(random_path, random_path[0])\n",
    "    ss = np.lib.stride_tricks.sliding_window_view(random_path, 2)\n",
    "    first_path_cost: np.float_ = 0\n",
    "    ss = [[0, 0]]\n",
    "    return np.sum(graph[[ss[:,0], ss[:,0]]])\n",
    "\n",
    "\n",
    "\n",
    "tsp(5)"
   ]
  }
 ],
 "metadata": {
  "kernelspec": {
   "display_name": "fisica-estatistica-computacional",
   "language": "python",
   "name": "python3"
  },
  "language_info": {
   "codemirror_mode": {
    "name": "ipython",
    "version": 3
   },
   "file_extension": ".py",
   "mimetype": "text/x-python",
   "name": "python",
   "nbconvert_exporter": "python",
   "pygments_lexer": "ipython3",
   "version": "3.10.9"
  },
  "orig_nbformat": 4
 },
 "nbformat": 4,
 "nbformat_minor": 2
}
