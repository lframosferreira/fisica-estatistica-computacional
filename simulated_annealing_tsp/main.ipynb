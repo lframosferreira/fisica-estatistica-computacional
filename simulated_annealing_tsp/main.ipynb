{
 "cells": [
  {
   "attachments": {},
   "cell_type": "markdown",
   "metadata": {},
   "source": [
    "# Simulated annealing - Caixeiro Viajante\n",
    "## Luís Felipe Ramos Ferreira - 2019022553"
   ]
  },
  {
   "cell_type": "code",
   "execution_count": 196,
   "metadata": {},
   "outputs": [],
   "source": [
    "import numpy as np\n",
    "import numpy.typing as npt\n",
    "import scipy\n",
    "import matplotlib.pyplot as plt"
   ]
  },
  {
   "cell_type": "code",
   "execution_count": 197,
   "metadata": {},
   "outputs": [],
   "source": [
    "def generate_random_graph(number_of_nodes: np.int_) -> npt.NDArray[np.float_]:\n",
    "    nodes: npt.NDArray[np.float_] = np.random.rand(number_of_nodes, 2)\n",
    "    adjacency_matrix: npt.NDArray[np.float_] = scipy.spatial.distance_matrix(nodes, nodes)\n",
    "    return adjacency_matrix, nodes\n",
    "\n",
    "def plot_path(nodes: npt.NDArray[np.float_], path: npt.NDArray[np.int_]) -> None:\n",
    "    plt.scatter(nodes[:, 0], nodes[:,1], c=\"black\")\n",
    "    for i in range(path.shape[0] - 1):\n",
    "        x_coordinates: npt.NDArray[np.float_] = np.array([nodes[path[i]][0], nodes[path[i + 1]][0]])\n",
    "        y_coordinates: npt.NDArray[np.float_] = np.array([nodes[path[i]][1], nodes[path[i + 1]][1]])\n",
    "        plt.plot(x_coordinates, y_coordinates, \"r-\")"
   ]
  },
  {
   "cell_type": "code",
   "execution_count": 235,
   "metadata": {},
   "outputs": [
    {
     "name": "stderr",
     "output_type": "stream",
     "text": [
      "/tmp/ipykernel_233134/839693082.py:31: RuntimeWarning: overflow encountered in exp\n",
      "  P: np.float_ = np.exp(-1 * delta / temperature)\n"
     ]
    },
    {
     "data": {
      "image/png": "[encoded data removed]",
      "text/plain": [
       "<Figure size 640x480 with 1 Axes>"
      ]
     },
     "metadata": {},
     "output_type": "display_data"
    }
   ],
   "source": [
    "def tsp(number_of_cities: np.int_) -> npt.NDArray[np.int_]:\n",
    "    temperature: np.float_ = 100.0\n",
    "    delta_t: np.float_ = 0.8\n",
    "    temperature_inferior_limit: np.float_ = 0.0001\n",
    "    graph, nodes = generate_random_graph(number_of_nodes=number_of_cities)\n",
    "    current_path: npt.NDArray[np.int_] = np.arange(number_of_cities)\n",
    "    np.random.shuffle(current_path)\n",
    "    edges: npt.NDArray[np.int_] = np.append(np.lib.stride_tricks.sliding_window_view(current_path, 2), [[current_path[-1], current_path[0]]], axis=0)\n",
    "    current_path_cost: np.float_ = np.sum([graph[i, j] for i, j in edges])\n",
    "    \n",
    "    temp = []\n",
    "    ener = []\n",
    "\n",
    "    while temperature > temperature_inferior_limit:\n",
    "        temp.append(temperature)\n",
    "        ener.append(current_path_cost)\n",
    "        for _ in range(100):\n",
    "            proposed_x, proposed_y = np.random.choice(np.arange(number_of_cities), size=2, replace=False)\n",
    "            proposed_path: npt.NDArray[np.int_] = current_path.copy()\n",
    "            proposed_path[[proposed_x, proposed_y]] = proposed_path[[proposed_y, proposed_x]]\n",
    "            \n",
    "\n",
    "            current_path = np.append(current_path, current_path[0])\n",
    "            proposed_path = np.append(proposed_path, proposed_path[0])\n",
    "\n",
    "            decrease: np.float_ = graph[current_path[proposed_x - 1], current_path[proposed_x]] + graph[current_path[proposed_x], current_path[proposed_x + 1]] + graph[current_path[proposed_y - 1], current_path[proposed_y]] + graph[current_path[proposed_y], current_path[proposed_y + 1]]\n",
    "            increase: np.float_ = graph[proposed_path[proposed_x - 1], proposed_path[proposed_x]] + graph[proposed_path[proposed_x], proposed_path[proposed_x + 1]] + graph[proposed_path[proposed_y - 1], proposed_path[proposed_y]] + graph[proposed_path[proposed_y], proposed_path[proposed_y + 1]]\n",
    "            proposed_path_cost: np.float_ = current_path_cost - decrease + increase\n",
    "            delta: np.float_ = proposed_path_cost - current_path_cost\n",
    "            r: np.float_ = np.random.rand()\n",
    "            P: np.float_ = np.exp(-1 * delta / temperature)\n",
    "            if r <= P:\n",
    "                current_path = proposed_path\n",
    "                current_path_cost = proposed_path_cost\n",
    "            current_path = current_path[:-1]\n",
    "        temperature *= delta_t\n",
    "\n",
    "    plt.plot(ener)    \n",
    "    plt.plot(temp)    \n",
    "\n",
    "    current_path = np.append(current_path, current_path[0])\n",
    "    return nodes, current_path\n",
    "\n",
    "a, b = tsp(100)"
   ]
  },
  {
   "cell_type": "code",
   "execution_count": 199,
   "metadata": {},
   "outputs": [
    {
     "data": {
      "text/plain": [
       "array([0, 1, 2, 3])"
      ]
     },
     "execution_count": 199,
     "metadata": {},
     "output_type": "execute_result"
    }
   ],
   "source": [
    "a = np.arange(5)\n",
    "a = a[:-1]\n",
    "a"
   ]
  }
 ],
 "metadata": {
  "kernelspec": {
   "display_name": "fisica-estatistica-computacional",
   "language": "python",
   "name": "python3"
  },
  "language_info": {
   "codemirror_mode": {
    "name": "ipython",
    "version": 3
   },
   "file_extension": ".py",
   "mimetype": "text/x-python",
   "name": "python",
   "nbconvert_exporter": "python",
   "pygments_lexer": "ipython3",
   "version": "3.11.2"
  },
  "orig_nbformat": 4
 },
 "nbformat": 4,
 "nbformat_minor": 2
}
