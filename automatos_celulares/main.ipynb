{
 "cells": [
  {
   "cell_type": "code",
   "execution_count": 20,
   "metadata": {},
   "outputs": [],
   "source": [
    "import numpy as np\n",
    "import numpy.typing as npt\n",
    "import matplotlib.pyplot as plt\n",
    "from matplotlib import colors"
   ]
  },
  {
   "cell_type": "code",
   "execution_count": 59,
   "metadata": {},
   "outputs": [
    {
     "name": "stdout",
     "output_type": "stream",
     "text": [
      "(0, 0, 0)\n",
      "(0, 0, 1)\n",
      "(0, 0, 2)\n",
      "(0, 0, 3)\n",
      "(0, 1, 0)\n",
      "(0, 1, 1)\n",
      "(0, 1, 2)\n",
      "(0, 1, 3)\n",
      "(0, 2, 0)\n",
      "(0, 2, 1)\n",
      "(0, 2, 2)\n",
      "(0, 2, 3)\n",
      "(0, 3, 0)\n",
      "(0, 3, 1)\n",
      "(0, 3, 2)\n",
      "(0, 3, 3)\n",
      "(0, 4, 0)\n",
      "(0, 4, 1)\n",
      "(0, 4, 2)\n",
      "(0, 4, 3)\n",
      "(1, 0, 0)\n",
      "(1, 0, 1)\n",
      "(1, 0, 2)\n",
      "(1, 0, 3)\n",
      "(1, 1, 0)\n",
      "(1, 1, 1)\n",
      "(1, 1, 2)\n",
      "(1, 1, 3)\n",
      "(1, 2, 0)\n",
      "(1, 2, 1)\n",
      "(1, 2, 2)\n",
      "(1, 2, 3)\n",
      "(1, 3, 0)\n",
      "(1, 3, 1)\n",
      "(1, 3, 2)\n",
      "(1, 3, 3)\n",
      "(1, 4, 0)\n",
      "(1, 4, 1)\n",
      "(1, 4, 2)\n",
      "(1, 4, 3)\n",
      "(2, 0, 0)\n",
      "(2, 0, 1)\n",
      "(2, 0, 2)\n",
      "(2, 0, 3)\n",
      "(2, 1, 0)\n",
      "(2, 1, 1)\n",
      "(2, 1, 2)\n",
      "(2, 1, 3)\n",
      "(2, 2, 0)\n",
      "(2, 2, 1)\n",
      "(2, 2, 2)\n",
      "(2, 2, 3)\n",
      "(2, 3, 0)\n",
      "(2, 3, 1)\n",
      "(2, 3, 2)\n",
      "(2, 3, 3)\n",
      "(2, 4, 0)\n",
      "(2, 4, 1)\n",
      "(2, 4, 2)\n",
      "(2, 4, 3)\n",
      "(3, 0, 0)\n",
      "(3, 0, 1)\n",
      "(3, 0, 2)\n",
      "(3, 0, 3)\n",
      "(3, 1, 0)\n",
      "(3, 1, 1)\n",
      "(3, 1, 2)\n",
      "(3, 1, 3)\n",
      "(3, 2, 0)\n",
      "(3, 2, 1)\n",
      "(3, 2, 2)\n",
      "(3, 2, 3)\n",
      "(3, 3, 0)\n",
      "(3, 3, 1)\n",
      "(3, 3, 2)\n",
      "(3, 3, 3)\n",
      "(3, 4, 0)\n",
      "(3, 4, 1)\n",
      "(3, 4, 2)\n",
      "(3, 4, 3)\n",
      "(4, 0, 0)\n",
      "(4, 0, 1)\n",
      "(4, 0, 2)\n",
      "(4, 0, 3)\n",
      "(4, 1, 0)\n",
      "(4, 1, 1)\n",
      "(4, 1, 2)\n",
      "(4, 1, 3)\n",
      "(4, 2, 0)\n",
      "(4, 2, 1)\n",
      "(4, 2, 2)\n",
      "(4, 2, 3)\n",
      "(4, 3, 0)\n",
      "(4, 3, 1)\n",
      "(4, 3, 2)\n",
      "(4, 3, 3)\n",
      "(4, 4, 0)\n",
      "(4, 4, 1)\n",
      "(4, 4, 2)\n",
      "(4, 4, 3)\n"
     ]
    }
   ],
   "source": [
    "def neighbours(grid_shape: npt.NDArray[np.int8]) -> npt.NDArray[np.int8]:\n",
    "    bfs_spread_moves: np.int8 = np.array([(0, 1),(0, -1), (1, 0), (-1, 0)])\n",
    "    neighbours_mapping: npt.NDArray[np.int8] = np.zeros(shape=(*grid_shape, 4), dtype=np.int8)\n",
    "    for index, val in np.ndenumerate(neighbours_mapping):\n",
    "        print(index)\n",
    "neighbours((5, 5))\n",
    "\n",
    "    "
   ]
  },
  {
   "cell_type": "code",
   "execution_count": 22,
   "metadata": {},
   "outputs": [],
   "source": [
    "# constants\n",
    "\n",
    "RED = 255, 0, 0\n",
    "GREEN = 0, 255, 0\n",
    "BLUE = 0, 0, 255\n",
    "\n",
    "cell_colors = {\"contaminated\": RED, \"recovered\": GREEN, \"susceptible\": BLUE}\n",
    "\n",
    "SUSCEPTIBLE = 0\n",
    "CONTAMINATED = 1\n",
    "RECOVERED = 2\n"
   ]
  },
  {
   "cell_type": "code",
   "execution_count": 23,
   "metadata": {},
   "outputs": [],
   "source": [
    "conditions = [\n",
    "    {\"p_contamination\": 0.9, \"p_recovery\": 0.1},\n",
    "    {\"p_contamination\": 0.5, \"p_recovery\": 0.5},\n",
    "    {\"p_contamination\": 0.1, \"p_recovery\": 0.9}\n",
    "]"
   ]
  },
  {
   "cell_type": "code",
   "execution_count": 24,
   "metadata": {},
   "outputs": [],
   "source": [
    "def draw_grid(grid: npt.NDArray[np.int8]) -> None:\n",
    "    # create discrete colormap\n",
    "    cmap = colors.ListedColormap([\"blue\", \"red\", \"green\"])\n",
    "    bounds = [0, 1, 2]\n",
    "\n",
    "    plt.imshow(grid, cmap=cmap)\n",
    "\n",
    "    \"\"\" plt.grid(which=\"major\", axis=\"both\", linestyle=\"-\", color=\"k\", linewidth=2)\n",
    "    plt.xticks(np.arange(grid.shape[0] + 1))\n",
    "    plt.yticks(np.arange(grid.shape[0] + 1))\n",
    "    plt.xlim(left=0, right=grid.shape[0])\n",
    "    plt.ylim(top=0, bottom=grid.shape[0]) \"\"\"\n",
    "\n",
    "    plt.show()"
   ]
  },
  {
   "cell_type": "code",
   "execution_count": 25,
   "metadata": {},
   "outputs": [],
   "source": [
    "def generate_epidemic_process(grid: npt.NDArray[np.int8], number_of_iterations: np.int8 = 10) -> npt.NDArray[np.int8]:\n",
    "    neighbours: npt.NDArray[np.int8] = vizinhos(grid.size)\n",
    "    neighbours_contaminated = lambda i, j: CONTAMINATED\n",
    "    spread = np.vectorize(lambda x: )\n",
    "    for _ in np.arange(number_of_iterations):\n",
    "        grid = spread(grid)"
   ]
  },
  {
   "cell_type": "code",
   "execution_count": 26,
   "metadata": {},
   "outputs": [
    {
     "ename": "TypeError",
     "evalue": "generate_epidemic_process.<locals>.<lambda>() missing 1 required positional argument: 'j'",
     "output_type": "error",
     "traceback": [
      "\u001b[0;31m---------------------------------------------------------------------------\u001b[0m",
      "\u001b[0;31mTypeError\u001b[0m                                 Traceback (most recent call last)",
      "Cell \u001b[0;32mIn[26], line 1\u001b[0m\n\u001b[0;32m----> 1\u001b[0m generate_epidemic_process(np\u001b[39m.\u001b[39;49mrandom\u001b[39m.\u001b[39;49mchoice([\u001b[39m0\u001b[39;49m,\u001b[39m1\u001b[39;49m,\u001b[39m2\u001b[39;49m], size\u001b[39m=\u001b[39;49m(\u001b[39m5\u001b[39;49m,\u001b[39m5\u001b[39;49m)))\n",
      "Cell \u001b[0;32mIn[25], line 6\u001b[0m, in \u001b[0;36mgenerate_epidemic_process\u001b[0;34m(grid, number_of_iterations)\u001b[0m\n\u001b[1;32m      4\u001b[0m should_get_contaminated \u001b[39m=\u001b[39m np\u001b[39m.\u001b[39mvectorize(\u001b[39mlambda\u001b[39;00m i, j: grid[i, j] \u001b[39m!=\u001b[39m RECOVERED \u001b[39mand\u001b[39;00m neighbours_contaminated(i, j))\n\u001b[1;32m      5\u001b[0m \u001b[39mfor\u001b[39;00m _ \u001b[39min\u001b[39;00m np\u001b[39m.\u001b[39marange(number_of_iterations):\n\u001b[0;32m----> 6\u001b[0m     grid \u001b[39m=\u001b[39m should_get_contaminated(grid)\n",
      "File \u001b[0;32m~/anaconda3/envs/fisica-estatistica-computacional/lib/python3.10/site-packages/numpy/lib/function_base.py:2329\u001b[0m, in \u001b[0;36mvectorize.__call__\u001b[0;34m(self, *args, **kwargs)\u001b[0m\n\u001b[1;32m   2326\u001b[0m     vargs \u001b[39m=\u001b[39m [args[_i] \u001b[39mfor\u001b[39;00m _i \u001b[39min\u001b[39;00m inds]\n\u001b[1;32m   2327\u001b[0m     vargs\u001b[39m.\u001b[39mextend([kwargs[_n] \u001b[39mfor\u001b[39;00m _n \u001b[39min\u001b[39;00m names])\n\u001b[0;32m-> 2329\u001b[0m \u001b[39mreturn\u001b[39;00m \u001b[39mself\u001b[39;49m\u001b[39m.\u001b[39;49m_vectorize_call(func\u001b[39m=\u001b[39;49mfunc, args\u001b[39m=\u001b[39;49mvargs)\n",
      "File \u001b[0;32m~/anaconda3/envs/fisica-estatistica-computacional/lib/python3.10/site-packages/numpy/lib/function_base.py:2407\u001b[0m, in \u001b[0;36mvectorize._vectorize_call\u001b[0;34m(self, func, args)\u001b[0m\n\u001b[1;32m   2405\u001b[0m     res \u001b[39m=\u001b[39m func()\n\u001b[1;32m   2406\u001b[0m \u001b[39melse\u001b[39;00m:\n\u001b[0;32m-> 2407\u001b[0m     ufunc, otypes \u001b[39m=\u001b[39m \u001b[39mself\u001b[39;49m\u001b[39m.\u001b[39;49m_get_ufunc_and_otypes(func\u001b[39m=\u001b[39;49mfunc, args\u001b[39m=\u001b[39;49margs)\n\u001b[1;32m   2409\u001b[0m     \u001b[39m# Convert args to object arrays first\u001b[39;00m\n\u001b[1;32m   2410\u001b[0m     inputs \u001b[39m=\u001b[39m [asanyarray(a, dtype\u001b[39m=\u001b[39m\u001b[39mobject\u001b[39m) \u001b[39mfor\u001b[39;00m a \u001b[39min\u001b[39;00m args]\n",
      "File \u001b[0;32m~/anaconda3/envs/fisica-estatistica-computacional/lib/python3.10/site-packages/numpy/lib/function_base.py:2367\u001b[0m, in \u001b[0;36mvectorize._get_ufunc_and_otypes\u001b[0;34m(self, func, args)\u001b[0m\n\u001b[1;32m   2363\u001b[0m     \u001b[39mraise\u001b[39;00m \u001b[39mValueError\u001b[39;00m(\u001b[39m'\u001b[39m\u001b[39mcannot call `vectorize` on size 0 inputs \u001b[39m\u001b[39m'\u001b[39m\n\u001b[1;32m   2364\u001b[0m                      \u001b[39m'\u001b[39m\u001b[39munless `otypes` is set\u001b[39m\u001b[39m'\u001b[39m)\n\u001b[1;32m   2366\u001b[0m inputs \u001b[39m=\u001b[39m [arg\u001b[39m.\u001b[39mflat[\u001b[39m0\u001b[39m] \u001b[39mfor\u001b[39;00m arg \u001b[39min\u001b[39;00m args]\n\u001b[0;32m-> 2367\u001b[0m outputs \u001b[39m=\u001b[39m func(\u001b[39m*\u001b[39;49minputs)\n\u001b[1;32m   2369\u001b[0m \u001b[39m# Performance note: profiling indicates that -- for simple\u001b[39;00m\n\u001b[1;32m   2370\u001b[0m \u001b[39m# functions at least -- this wrapping can almost double the\u001b[39;00m\n\u001b[1;32m   2371\u001b[0m \u001b[39m# execution time.\u001b[39;00m\n\u001b[1;32m   2372\u001b[0m \u001b[39m# Hence we make it optional.\u001b[39;00m\n\u001b[1;32m   2373\u001b[0m \u001b[39mif\u001b[39;00m \u001b[39mself\u001b[39m\u001b[39m.\u001b[39mcache:\n",
      "\u001b[0;31mTypeError\u001b[0m: generate_epidemic_process.<locals>.<lambda>() missing 1 required positional argument: 'j'"
     ]
    }
   ],
   "source": [
    "generate_epidemic_process(np.random.choice([0,1,2], size=(5,5)))"
   ]
  }
 ],
 "metadata": {
  "kernelspec": {
   "display_name": "fisica-estatistica-computacional",
   "language": "python",
   "name": "python3"
  },
  "language_info": {
   "codemirror_mode": {
    "name": "ipython",
    "version": 3
   },
   "file_extension": ".py",
   "mimetype": "text/x-python",
   "name": "python",
   "nbconvert_exporter": "python",
   "pygments_lexer": "ipython3",
   "version": "3.10.11"
  },
  "orig_nbformat": 4
 },
 "nbformat": 4,
 "nbformat_minor": 2
}
