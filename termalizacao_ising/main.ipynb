{
  "cells": [
    {
      "attachments": {},
      "cell_type": "markdown",
      "metadata": {},
      "source": [
        "# Exercício avaliativo 2\n",
        "## Introdução a Física Estatística e Computacional\n",
        "\n",
        "Luís Felipe Ramos Ferreira - 2019022553\n",
        "\n",
        "Observação: O código foi feito feio em conjunto com os colegas Igor Lacerda e Gabriel Rocha. No entanto, é claro, as análises, testes e comentários foram feitos individualmente."
      ]
    },
    {
      "cell_type": "code",
      "execution_count": 22,
      "metadata": {
        "vscode": {
          "languageId": "python"
        }
      },
      "outputs": [],
      "source": [
        "import numpy as np\n",
        "from numba import jit\n",
        "import matplotlib.pyplot as plt"
      ]
    },
    {
      "cell_type": "code",
      "execution_count": 23,
      "metadata": {
        "jukit_cell_id": "abjOhjriCB",
        "vscode": {
          "languageId": "python"
        }
      },
      "outputs": [],
      "source": [
        "@jit(nopython=True)\n",
        "def vizinhos(N: int):\n",
        "    # Define a tabela de vizinhos\n",
        "    L = int(np.sqrt(N))\n",
        "    viz = np.zeros((N, 4), dtype=np.int16)\n",
        "    for k in range(N):\n",
        "        viz[k, 0] = k + 1\n",
        "        if (k + 1) % L == 0:\n",
        "            viz[k, 0] = k + 1 - L\n",
        "        viz[k, 1] = k + L\n",
        "        if k > (N - L - 1):\n",
        "            viz[k, 1] = k + L - N\n",
        "        viz[k, 2] = k - 1\n",
        "        if k % L == 0:\n",
        "            viz[k, 2] = k + L - 1\n",
        "        viz[k, 3] = k - L\n",
        "        if k < L:\n",
        "            viz[k, 3] = k + N - L\n",
        "    return viz"
      ]
    },
    {
      "cell_type": "code",
      "execution_count": 24,
      "metadata": {
        "jukit_cell_id": "DNetz6EqYG",
        "vscode": {
          "languageId": "python"
        }
      },
      "outputs": [],
      "source": [
        "@jit(nopython=True)\n",
        "def algoritmo_de_metropolis(L: int, T: float, passos: int):\n",
        "    energia: np.ndarray = np.zeros(passos, dtype=np.int32)\n",
        "    magnetização: np.ndarray = np.zeros(passos, dtype=np.int32)\n",
        "\n",
        "    spins: np.ndarray = np.array([-1, 1], dtype=np.int8)\n",
        "\n",
        "    variações_de_energia = np.array([8.0, 4.0, 0.0, -4.0, -8.0], dtype=np.float64)\n",
        "    expoentes = np.exp(variações_de_energia / T)\n",
        "\n",
        "    N = L * L\n",
        "    S = np.random.choice(spins, N)\n",
        "\n",
        "    viz = vizinhos(N)\n",
        "\n",
        "    for i in range(passos):\n",
        "        for k in np.arange(N):\n",
        "            indice = int(S[k] * np.sum(S[viz[k]]) * 0.5 + 2)\n",
        "            if np.random.rand() < expoentes[indice]:\n",
        "                S[k] = -1 * S[k]\n",
        "        energia[i] = -np.sum(S * (S[viz[:, 0]] + S[viz[:, 1]]))\n",
        "        magnetização[i] = np.sum(S)\n",
        "\n",
        "    return energia, magnetização"
      ]
    },
    {
      "cell_type": "code",
      "execution_count": 25,
      "metadata": {
        "jukit_cell_id": "HVkAb2VvkE",
        "vscode": {
          "languageId": "python"
        }
      },
      "outputs": [],
      "source": [
        "N = 0\n",
        "comprimento = 100\n",
        "temperatura = 3\n",
        "PASSOS_DE_MONTECARLO = 1000\n",
        "energias = np.zeros((N, PASSOS_DE_MONTECARLO))\n",
        "magnetizações = np.zeros((N, PASSOS_DE_MONTECARLO))\n",
        "\n",
        "for i in range(N):\n",
        "    energias[i], magnetizações[i] = algoritmo_de_metropolis(\n",
        "        comprimento, temperatura, PASSOS_DE_MONTECARLO\n",
        "    )\n",
        "\n",
        "for e in energias:\n",
        "    plt.title(f\"Rede: {comprimento} Temperatura: {temperatura}\")\n",
        "    plt.xlabel(\"Número de passos de Monte Carlo\")\n",
        "    plt.ylabel(\"Energia\")\n",
        "    plt.plot(e)\n",
        "\n",
        "plt.show()\n",
        "\n",
        "for m in magnetizações:\n",
        "    plt.title(f\"Rede: {comprimento} Temperatura: {temperatura}\")\n",
        "    plt.xlabel(\"Número de passos de Monte Carlo\")\n",
        "    plt.ylabel(\"Magnetização\")\n",
        "    plt.plot(m)\n",
        "\n",
        "plt.show()"
      ]
    },
    {
      "attachments": {},
      "cell_type": "markdown",
      "metadata": {
        "jukit_cell_id": "2yjTchnNOK"
      },
      "source": [
        "# Análise\n",
        "\n",
        "Para uma análise concisa dos experimentos, decidiu-se realizar experimentos com um tamanho de sistema fixo e 5 temperaturas uniformemente separadas, assim como com uma temperatura fixa e 5 tamanhos de sistema uniformemente separados. Essa distribuição uniforme foi dada de acordo com os limites propostos pelo professor. Dessa maneira, 10 configurações de teste/análise são propostas:\n",
        "\n",
        "\n",
        "- Tamanho: 62, Temperatura: 0.4\n",
        "- Tamanho: 62, Temperatura: 1.05\n",
        "- Tamanho: 62, Temperatura: 1.7\n",
        "- Tamanho: 62, Temperatura: 2.35\n",
        "- Tamanho: 62, Temperatura: 3.0\n",
        "\n",
        "- Tamanho: 24, Temperatura: 1.7\n",
        "- Tamanho: 43, Temperatura: 1.7\n",
        "- Tamanho: 62, Temperatura: 1.7\n",
        "- Tamanho: 81, Temperatura: 1.7\n",
        "- Tamanho: 100, Temperatura: 1.7\n",
        "\n",
        "\n",
        "### Variação de Temperatura\n",
        "\n",
        "![E32T0.4](img/energias32T0.4.png)  \n",
        "![E32T1.2](img/energias32T1.2.png)  \n",
        "![E32T2](img/energias32T2.png)  \n",
        "![E32T3](img/energias32T3.png)  \n",
        "![E32T3x](img/energias32T3++.png)  \n",
        "\n",
        "O aumento de temperatura torna a convergência muito mais lenta. Quando a temperatura é muito baixa, é possível que a energia converga para um valor mais baixo. Tentou-se fazer mais passos de Monte Carlo para averiguar se a convergência estava próxima, mas não houve diferença em relação à divergência entre 1000 e 2000 passos.\n",
        "\n",
        "### Variação de Comprimento\n",
        "\n",
        "![E24T1.7](img/energias24T1.7.png)  \n",
        "![E48T1.7](img/energias48T1.7.png)  \n",
        "![E72T1.7](img/energias72T1.7.png)  \n",
        "![E100T1.7](img/energias100T1.7.png)  \n",
        "\n",
        "O tamanho da rede não possui tanta influência como a temperatura, na convergência. E energia total do sistema diminui conforme se aumenta o tamanho, o que faz parecer que a variação entre os picos e vales próximos da convergência é menor (eu diria que parece ser aproximadamente a mesma, mas não calculei isso). Não é possível afirmar se é mais comum que a convergência não ocorra com o aumento do tamanho da rede, com base nas imagens. Apesar de ser possível existir um viés.\n",
        "\n",
        "\n",
        "### Mínimo e Máximo\n",
        "\n",
        "![E24T0.4](img/energias24T0.4.png)  \n",
        "![E100T3](img/energias100T3.png)  \n",
        "\n",
        "Analisando os casos extremos, e com base nas análises anteriores, é possível supor que o aumento da temperatura é o principal fator que contribui para a não convergência da energia.\n",
        "\n",
        "## Magnetização\n",
        "\n",
        "### Variação de Temperatura\n",
        "\n",
        "![M32T0.4](img/magnetos32T0.4.png)  \n",
        "![M32T1.2](img/magnetos32T1.2.png)  \n",
        "![M32T2](img/magnetos32T2.png)  \n",
        "![M32T3](img/magnetos32T3.png)  \n",
        "![M32T3x](img/magnetos32T3++.png)  \n",
        "\n",
        "Para a temperatura mais baixa, 3 instâncias não convergiram, ficaram repetindo em padrões. Com o aumento da temperatura (T=2), houve uma tendência maior a convergir, mas com um aumento ainda maior (T=3), o gráfico voltou a ficar uma completa bagunça. Tal como para a energia, um aumento do número de passos de Monte Carlo não ajudou.\n",
        "\n",
        "### Variação de Comprimento\n",
        "\n",
        "![M24T1.7](img/magnetos24T1.7.png)  \n",
        "![M48T1.7](img/magnetos48T1.7.png)  \n",
        "![M72T1.7](img/magnetos72T1.7.png)  \n",
        "![M100T1.7](img/magnetos100T1.7.png)  \n",
        "\n",
        "Como no caso da energia, o aumento da rede aumentou os valores para os quais a magnetização converge e, também similarmente ao caso energético, não é possível afirmar que um aumento do tamanho da rede dificulta a convergência.\n",
        "\n",
        "### Mínimo e Máximo\n",
        "\n",
        "![M24T0.4](img/magnetos24T0.4.png)  \n",
        "![M100T3](img/magnetos100T3.png)  \n",
        "\n",
        "Novamente, o caso \"exagerado\" ficou não inteligível. Não houve convergência em nenhuma instância. Já o caso \"básico\" teve algumas instâncias que também não convergiram, mas no geral é bem comportado, convergindo rapidamente."
      ]
    }
  ],
  "metadata": {
    "anaconda-cloud": {},
    "kernelspec": {
      "display_name": "python",
      "language": "python",
      "name": "python3"
    }
  },
  "nbformat": 4,
  "nbformat_minor": 4
}
