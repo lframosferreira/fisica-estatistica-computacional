{
 "cells": [
  {
   "attachments": {},
   "cell_type": "markdown",
   "metadata": {},
   "source": [
    "# Introdução a Física Estatística e Computacional\n",
    "## Teoria dos jogos - jogos evolucionários\n",
    "### Luís Felipe Ramos Ferreira - 2019022553"
   ]
  },
  {
   "cell_type": "code",
   "execution_count": 75,
   "metadata": {},
   "outputs": [],
   "source": [
    "import numpy as np\n",
    "import numpy.typing as npt\n",
    "import gif\n",
    "import matplotlib.pyplot as plt\n",
    "from matplotlib import colors\n",
    "import matplotlib.patches as mpatches\n",
    "import numba\n",
    "import random\n",
    "from tqdm import tqdm\n"
   ]
  },
  {
   "cell_type": "code",
   "execution_count": 76,
   "metadata": {},
   "outputs": [],
   "source": [
    "# constants\n",
    "\n",
    "COOPERATOR: np.int8 = 0\n",
    "DEFECTOR: np.int8 = 1\n",
    "\n",
    "L: np.int32 = 200\n",
    "GRID_SIZE: np.int32 = L * L\n",
    "\n",
    "RED = 1, 0, 0\n",
    "GREEN = 0, 1, 0\n",
    "\n",
    "COLORS: list[str] = [RED, GREEN]"
   ]
  },
  {
   "cell_type": "code",
   "execution_count": 77,
   "metadata": {},
   "outputs": [],
   "source": [
    "@numba.jit(nopython=True)\n",
    "def get_neighbours(grid_size: np.int64) -> npt.NDArray[np.int16]:\n",
    "    L: np.int16 = int(np.sqrt(grid_size))\n",
    "    neighbours = np.zeros((grid_size, 4), dtype=np.int16)\n",
    "    for k in np.arange(grid_size):\n",
    "        neighbours[k, 0] = k + 1\n",
    "        if (k + 1) % L == 0:\n",
    "            neighbours[k, 0] = k + 1 - L\n",
    "        neighbours[k, 1] = k + L\n",
    "        if k > (grid_size - L - 1):\n",
    "            neighbours[k, 1] = k + L - grid_size\n",
    "        neighbours[k, 2] = k - 1\n",
    "        if k % L == 0:\n",
    "            neighbours[k, 2] = k + L - 1\n",
    "        neighbours[k, 3] = k - L\n",
    "        if k < L:\n",
    "            neighbours[k, 3] = k + grid_size - L\n",
    "    return neighbours"
   ]
  },
  {
   "cell_type": "code",
   "execution_count": 78,
   "metadata": {},
   "outputs": [],
   "source": [
    "@gif.frame\n",
    "def draw_grid(grid: npt.NDArray[np.int8]) -> None:\n",
    "    cmap = colors.ListedColormap(colors=COLORS)\n",
    "    grid = np.reshape(grid, newshape=(int(np.sqrt(grid.size)), int(np.sqrt(grid.size))))\n",
    "    plt.figure(figsize=(8, 4))\n",
    "    plt.title(f\"Problema dos Prisioneiros\")\n",
    "    plt.xlabel(f\"{grid.shape} grid\")\n",
    "    plt.xticks(np.arange(grid.shape[0] + 1), labels=[])\n",
    "    plt.yticks(np.arange(grid.shape[0] + 1), labels=[])\n",
    "    patches = [\n",
    "        mpatches.Patch(color=COLORS[i], label=f\"{'Cooperator' if i else 'Defector'}\")\n",
    "        for i in np.arange(2)\n",
    "    ]\n",
    "    plt.legend(handles=patches, bbox_to_anchor=(1.05, 1), loc=2, borderaxespad=0.0)\n",
    "    plt.imshow(\n",
    "        grid,\n",
    "        cmap=cmap,\n",
    "        origin=\"lower\",\n",
    "        extent=(0, grid.shape[0], 0, grid.shape[0]),\n",
    "        vmin=0,\n",
    "        vmax=2,\n",
    "    )\n",
    "\n",
    "\n",
    "def plot_densities_per_time(densities: npt.NDArray[np.float64]) -> None:\n",
    "    plt.title(\"Variação da densidade de cooperadores\")\n",
    "    plt.xlabel(\"Tempo (iterações)\")\n",
    "    plt.ylabel(\"Densidade de cooperadores\")\n",
    "    plt.plot(densities)\n",
    "    plt.show()\n",
    "\n",
    "\n",
    "def plot_densities_per_b(densities_per_b: npt.NDArray[np.float64]) -> None:\n",
    "    plt.title(\"Variação da densidade de cooperadores após convergência\")\n",
    "    plt.xlabel(\"Valor de b\")\n",
    "    plt.ylabel(\"Densidade de cooperadores\")\n",
    "    plt.plot(densities_per_b)\n",
    "    plt.show()"
   ]
  },
  {
   "cell_type": "code",
   "execution_count": 79,
   "metadata": {},
   "outputs": [],
   "source": [
    "@numba.jit(nopython=True)\n",
    "def get_cooperators_densities(\n",
    "    b: np.float32 = 1.5, K: np.float32 = 0.2, number_of_iterations: np.int64 = 2000000\n",
    ") -> npt.NDArray[np.float64]:\n",
    "    neighbours: npt.NDArray[np.int32] = get_neighbours(grid_size=GRID_SIZE)\n",
    "    gain_matrix: npt.NDArray[np.int8] = np.array([[1.0, 0.0], [b, 0.0]])\n",
    "\n",
    "    grid: npt.NDArray[np.int8] = np.zeros(shape=GRID_SIZE, dtype=np.int8)\n",
    "    for m in range(GRID_SIZE):\n",
    "        grid[m] = random.randint(0, 1)\n",
    "\n",
    "    density_of_cooperators: np.float32 = 1 - np.count_nonzero(grid) / grid.size\n",
    "    densities: np.float64 = np.zeros(shape=number_of_iterations, dtype=np.float64)\n",
    "    densities[0] = density_of_cooperators\n",
    "    for i in np.arange(number_of_iterations):\n",
    "        # define random individual and it's gain\n",
    "        random_individual: np.int32 = random.randint(0, GRID_SIZE)\n",
    "        nature: np.int8 = grid[random_individual]\n",
    "        neighbours_nature: npt.NDArray[np.int8] = np.append(\n",
    "            grid[neighbours[random_individual]], nature\n",
    "        )\n",
    "        total_gain: np.float32 = np.sum(gain_matrix[nature][neighbours_nature])\n",
    "\n",
    "        # chose random neighbours and get it's gain\n",
    "        random_individual_neighbour: np.int8 = neighbours[random_individual][random.randint(0, 4)]\n",
    "        nature = grid[random_individual_neighbour]\n",
    "        neighbours_nature = np.append(\n",
    "            grid[neighbours[random_individual_neighbour]], nature\n",
    "        )\n",
    "        total_neighbour_gain: np.float32 = np.sum(\n",
    "            gain_matrix[nature][neighbours_nature]\n",
    "        )\n",
    "        W: np.float32 = 1 / (1 + np.exp((total_gain - total_neighbour_gain) / K))\n",
    "        if random.random() < W:\n",
    "            if grid[random_individual] != grid[random_individual_neighbour]:\n",
    "                if grid[random_individual] == COOPERATOR:\n",
    "                    density_of_cooperators -= 1 / grid.size\n",
    "                else:\n",
    "                    density_of_cooperators += 1 / grid.size\n",
    "            grid[random_individual] = grid[random_individual_neighbour]\n",
    "        densities[i] = density_of_cooperators\n",
    "    return densities\n",
    "\n",
    "@numba.jit(nopython=True, parallel=True)\n",
    "def get_densities_per_b(b_variation: np.float64 = 0.01, K: np.float32 = 0.2) -> npt.NDArray[np.float64]:\n",
    "    b_array: npt.NDArray[np.float64] = np.arange(1, 2 + b_variation, b_variation)\n",
    "    densities_per_b: npt.NDArray[np.float64] = np.zeros(shape=b_array.size, dtype=np.float64)\n",
    "    for i in numba.prange(b_array.size):\n",
    "        density: np.float64 = get_cooperators_densities(b=b_array[i], K=K)[-1]\n",
    "        densities_per_b[i] = density\n",
    "    return densities_per_b"
   ]
  },
  {
   "cell_type": "code",
   "execution_count": 82,
   "metadata": {},
   "outputs": [
    {
     "data": {
      "image/png": "[encoded data removed]",
      "text/plain": [
       "<Figure size 640x480 with 1 Axes>"
      ]
     },
     "metadata": {},
     "output_type": "display_data"
    }
   ],
   "source": [
    "a = get_densities_per_b(K=0.02)\n",
    "plot_densities_per_b(densities_per_b=a)"
   ]
  },
  {
   "cell_type": "code",
   "execution_count": 81,
   "metadata": {},
   "outputs": [
    {
     "data": {
      "text/plain": [
       "array([1.000025, 1.      , 1.      , 1.      , 1.      , 1.      ,\n",
       "       1.      , 1.      , 1.      , 0.999975, 0.99995 , 0.999875,\n",
       "       0.999775, 0.9994  , 0.999025, 0.998475, 0.9977  , 0.995875,\n",
       "       0.9947  , 0.988575, 0.9834  , 0.9774  , 0.964675, 0.9517  ,\n",
       "       0.9379  , 0.9195  , 0.90295 , 0.876025, 0.8569  , 0.830625,\n",
       "       0.798   , 0.7723  , 0.730375, 0.731175, 0.697225, 0.670425,\n",
       "       0.64965 , 0.62225 , 0.589825, 0.57445 , 0.54985 , 0.52405 ,\n",
       "       0.513325, 0.497525, 0.45955 , 0.444625, 0.4225  , 0.413   ,\n",
       "       0.392725, 0.389925, 0.360025, 0.353075, 0.3321  , 0.324975,\n",
       "       0.3066  , 0.296125, 0.277375, 0.2661  , 0.265575, 0.232375,\n",
       "       0.2307  , 0.20585 , 0.203325, 0.18835 , 0.17355 , 0.154   ,\n",
       "       0.1456  , 0.138175, 0.11705 , 0.118775, 0.1103  , 0.09965 ,\n",
       "       0.086675, 0.075875, 0.073025, 0.0596  , 0.0569  , 0.0456  ,\n",
       "       0.044475, 0.03695 , 0.0364  , 0.0235  , 0.03105 , 0.02095 ,\n",
       "       0.015625, 0.015125, 0.014975, 0.013175, 0.00985 , 0.005475,\n",
       "       0.008025, 0.0079  , 0.003975, 0.0048  , 0.0057  , 0.00445 ,\n",
       "       0.002725, 0.003075, 0.00295 , 0.002   , 0.001725])"
      ]
     },
     "execution_count": 81,
     "metadata": {},
     "output_type": "execute_result"
    }
   ],
   "source": [
    "a"
   ]
  }
 ],
 "metadata": {
  "kernelspec": {
   "display_name": "fisica-estatistica-computacional",
   "language": "python",
   "name": "python3"
  },
  "language_info": {
   "codemirror_mode": {
    "name": "ipython",
    "version": 3
   },
   "file_extension": ".py",
   "mimetype": "text/x-python",
   "name": "python",
   "nbconvert_exporter": "python",
   "pygments_lexer": "ipython3",
   "version": "3.10.11"
  },
  "orig_nbformat": 4
 },
 "nbformat": 4,
 "nbformat_minor": 2
}
