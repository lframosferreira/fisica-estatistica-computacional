{
 "cells": [
  {
   "attachments": {},
   "cell_type": "markdown",
   "metadata": {},
   "source": [
    "# Introdução a Física Estatística e Computacional\n",
    "## Teoria dos jogos - jogos evolucionários\n",
    "### Luís Felipe Ramos Ferreira - 2019022553"
   ]
  },
  {
   "cell_type": "code",
   "execution_count": 379,
   "metadata": {},
   "outputs": [],
   "source": [
    "import numpy as np\n",
    "import numpy.typing as npt\n",
    "import gif\n",
    "import matplotlib.pyplot as plt\n",
    "from matplotlib import colors\n",
    "import matplotlib.patches as mpatches\n",
    "import numba\n",
    "import random\n"
   ]
  },
  {
   "cell_type": "code",
   "execution_count": 380,
   "metadata": {},
   "outputs": [],
   "source": [
    "# constants\n",
    "\n",
    "COOPERATOR: np.int8 = 0\n",
    "DEFECTOR: np.int8 = 1\n",
    "\n",
    "L: np.int32 = 200\n",
    "GRID_SIZE: np.int32 = L * L\n",
    "\n",
    "RED = 1, 0, 0\n",
    "GREEN = 0, 1, 0\n",
    "\n",
    "COLORS: list[str] = [RED, GREEN]"
   ]
  },
  {
   "cell_type": "code",
   "execution_count": 381,
   "metadata": {},
   "outputs": [],
   "source": [
    "@numba.jit(nopython=True)\n",
    "def get_neighbours(grid_size: np.int64) -> npt.NDArray[np.int16]:\n",
    "    L: np.int16 = int(np.sqrt(grid_size))\n",
    "    neighbours = np.zeros((grid_size, 4), dtype=np.int16)\n",
    "    for k in np.arange(grid_size):\n",
    "        neighbours[k, 0] = k + 1\n",
    "        if (k + 1) % L == 0:\n",
    "            neighbours[k, 0] = k + 1 - L\n",
    "        neighbours[k, 1] = k + L\n",
    "        if k > (grid_size - L - 1):\n",
    "            neighbours[k, 1] = k + L - grid_size\n",
    "        neighbours[k, 2] = k - 1\n",
    "        if k % L == 0:\n",
    "            neighbours[k, 2] = k + L - 1\n",
    "        neighbours[k, 3] = k - L\n",
    "        if k < L:\n",
    "            neighbours[k, 3] = k + grid_size - L\n",
    "    return neighbours"
   ]
  },
  {
   "cell_type": "code",
   "execution_count": 382,
   "metadata": {},
   "outputs": [],
   "source": [
    "@gif.frame\n",
    "def draw_grid(grid: npt.NDArray[np.int8]) -> None:\n",
    "    cmap = colors.ListedColormap(colors=COLORS)\n",
    "    grid = np.reshape(grid, newshape=(int(np.sqrt(grid.size)), int(np.sqrt(grid.size))))\n",
    "    plt.figure(figsize=(8, 4))\n",
    "    plt.title(f\"Problema dos Prisioneiros\")\n",
    "    plt.xlabel(f\"{grid.shape} grid\")\n",
    "    plt.xticks(np.arange(grid.shape[0] + 1), labels=[])\n",
    "    plt.yticks(np.arange(grid.shape[0] + 1), labels=[])\n",
    "    patches = [\n",
    "        mpatches.Patch(color=COLORS[i], label=f\"{'Cooperator' if i else 'Defector'}\")\n",
    "        for i in np.arange(2)\n",
    "    ]\n",
    "    plt.legend(handles=patches, bbox_to_anchor=(1.05, 1), loc=2, borderaxespad=0.0)\n",
    "    plt.imshow(\n",
    "        grid,\n",
    "        cmap=cmap,\n",
    "        origin=\"lower\",\n",
    "        extent=(0, grid.shape[0], 0, grid.shape[0]),\n",
    "        vmin=0,\n",
    "        vmax=2,\n",
    "    )\n",
    "\n",
    "\n",
    "def plot_densities_per_time(densities: npt.NDArray[np.float64]) -> None:\n",
    "    plt.title(\"Variação da densidade de cooperadores\")\n",
    "    plt.xlabel(\"Tempo (iterações)\")\n",
    "    plt.ylabel(\"Densidade de cooperadores\")\n",
    "    plt.yticks(ticks=np.arange(0, 1.1, 0.1))\n",
    "    plt.plot(densities)\n",
    "    plt.show()\n",
    "\n",
    "\n",
    "def plot_densities_per_b(densities: npt.NDArray[np.float64], b_vec: np.float64) -> None:\n",
    "    plt.title(\"Variação da densidade de cooperadores após convergência\")\n",
    "    plt.xlabel(\"b\")\n",
    "    plt.ylabel(\"Densidade de cooperadores\")\n",
    "    plt.yticks(ticks=np.arange(0, 1.1, 0.1))\n",
    "    plt.plot(densities)\n",
    "    plt.show()"
   ]
  },
  {
   "cell_type": "code",
   "execution_count": 384,
   "metadata": {},
   "outputs": [
    {
     "data": {
      "text/plain": [
       "array([0.668   , 0.668025, 0.668025, ..., 1.32535 , 1.325325, 1.3253  ])"
      ]
     },
     "execution_count": 384,
     "metadata": {},
     "output_type": "execute_result"
    }
   ],
   "source": [
    "@numba.jit(nopython=True)\n",
    "def get_cooperators_densities(\n",
    "    b: np.float32 = 1, K: np.float32 = 0.2, number_of_iterations: np.int64 = 200000\n",
    ") -> npt.NDArray[np.float64]:\n",
    "    neighbours: npt.NDArray[np.int32] = get_neighbours(grid_size=GRID_SIZE)\n",
    "    gain_matrix: npt.NDArray[np.int8] = np.array([[1, 0], [b, 0]])\n",
    "\n",
    "    grid: npt.NDArray[np.int8] = np.zeros(shape=GRID_SIZE, dtype=np.int8)\n",
    "    for m in range(GRID_SIZE):\n",
    "        grid[m] = random.randint(0, 2)\n",
    "\n",
    "    density_of_cooperators: np.float32 = np.count_nonzero(grid) / grid.size\n",
    "    densities: np.float64 = np.zeros(shape=number_of_iterations, dtype=np.float64)\n",
    "    densities[0] = density_of_cooperators\n",
    "    for i in np.arange(number_of_iterations):\n",
    "        # define random individual and it's gain\n",
    "        random_individual: np.int32 = random.randint(0, GRID_SIZE)\n",
    "        nature: np.int8 = grid[random_individual]\n",
    "        neighbours_nature: npt.NDArray[np.int8] = np.append(\n",
    "            grid[neighbours[random_individual]], nature\n",
    "        )\n",
    "        total_gain: np.float32 = np.sum(gain_matrix[nature][neighbours_nature])\n",
    "\n",
    "        # chose random neighbours and get it's gain\n",
    "        aux: int = random.randint(0, 4)\n",
    "        random_individual_neighbour: np.int8 = neighbours[random_individual][aux]\n",
    "\n",
    "        # ficar de olho nessa repeticao de nomes de variáveis\n",
    "        nature = grid[random_individual_neighbour]\n",
    "        neighbours_nature = np.append(\n",
    "            grid[neighbours[random_individual_neighbour]], nature\n",
    "        )\n",
    "        total_neighbour_gain: np.float32 = np.sum(\n",
    "            gain_matrix[nature][neighbours_nature]\n",
    "        )\n",
    "\n",
    "        W: np.float32 = 1 / (1 + np.exp((total_gain - total_neighbour_gain) / K))\n",
    "\n",
    "        if random.random() < W:\n",
    "            if grid[random_individual] != grid[random_individual_neighbour]:\n",
    "                if grid[random_individual] == COOPERATOR:\n",
    "                    density_of_cooperators -= 1 / grid.size\n",
    "                else:\n",
    "                    density_of_cooperators += 1 / grid.size\n",
    "            grid[random_individual] = grid[random_individual_neighbour]\n",
    "        densities[i] = density_of_cooperators\n",
    "    return densities\n",
    "\n",
    "\n",
    "\"\"\" r = []\n",
    "for b in np.arange(1.1, 2, 0.01):\n",
    "    density: np.float64 = get_cooperators_densities(b=1.9, number_of_iterations=100000)\n",
    "    r.append(density)\n",
    "plt.plot(r)\n",
    "plt.show() \"\"\"\n",
    "get_cooperators_densities()"
   ]
  }
 ],
 "metadata": {
  "kernelspec": {
   "display_name": "fisica-estatistica-computacional",
   "language": "python",
   "name": "python3"
  },
  "language_info": {
   "codemirror_mode": {
    "name": "ipython",
    "version": 3
   },
   "file_extension": ".py",
   "mimetype": "text/x-python",
   "name": "python",
   "nbconvert_exporter": "python",
   "pygments_lexer": "ipython3",
   "version": "3.10.11"
  },
  "orig_nbformat": 4
 },
 "nbformat": 4,
 "nbformat_minor": 2
}
