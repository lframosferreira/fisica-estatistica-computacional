{
 "cells": [
  {
   "cell_type": "code",
   "execution_count": 1,
   "metadata": {},
   "outputs": [],
   "source": [
    "import numpy as np\n",
    "import numpy.typing as npt\n",
    "import matplotlib.pyplot as plt\n",
    "import matplotlib.patches as mpatches\n",
    "from matplotlib import colors\n",
    "import gif"
   ]
  },
  {
   "cell_type": "code",
   "execution_count": 2,
   "metadata": {},
   "outputs": [],
   "source": [
    "def get_neighbours(grid_size: np.int64) -> npt.NDArray[np.int16]:\n",
    "    L: np.int16 = int(np.sqrt(grid_size))\n",
    "    neighbours = np.zeros((grid_size, 4), dtype=np.int16)\n",
    "    for k in np.arange(grid_size):\n",
    "        neighbours[k, 0] = k + 1\n",
    "        if (k + 1) % L == 0:\n",
    "            neighbours[k, 0] = k + 1 - L\n",
    "        neighbours[k, 1] = k + L\n",
    "        if k > (grid_size - L - 1):\n",
    "            neighbours[k, 1] = k + L - grid_size\n",
    "        neighbours[k, 2] = k - 1\n",
    "        if k % L == 0:\n",
    "            neighbours[k, 2] = k + L - 1\n",
    "        neighbours[k, 3] = k - L\n",
    "        if k < L:\n",
    "            neighbours[k, 3] = k + grid_size - L\n",
    "    return neighbours"
   ]
  },
  {
   "cell_type": "code",
   "execution_count": 3,
   "metadata": {},
   "outputs": [],
   "source": [
    "# constants\n",
    "\n",
    "SUSCEPTIBLE = 0\n",
    "CONTAMINATED = 1\n",
    "RECOVERED = 2\n",
    "\n",
    "RED = 1, 0, 0\n",
    "BLUE = 0, 1, 0\n",
    "GREEN = 0, 0, 1\n",
    "\n",
    "COLORS: list[str] = [GREEN, RED, BLUE]\n",
    "HEALTH_CONDITIONS_IDS: list[str] = [\"Susceptible\", \"Contaminated\", \"Recovered\"]\n"
   ]
  },
  {
   "cell_type": "code",
   "execution_count": 4,
   "metadata": {},
   "outputs": [],
   "source": [
    "conditions: list[dict] = [\n",
    "    {\"prob_contamination\": 0.9, \"prob_recovery\": 0.1},\n",
    "    {\"prob_contamination\": 0.5, \"prob_recovery\": 0.5},\n",
    "    {\"prob_contamination\": 0.1, \"prob_recovery\": 0.9}\n",
    "]"
   ]
  },
  {
   "cell_type": "code",
   "execution_count": 5,
   "metadata": {},
   "outputs": [],
   "source": [
    "# visualization functions\n",
    "\n",
    "@gif.frame\n",
    "def draw_grid(grid: npt.NDArray[np.int8]) -> None:\n",
    "    cmap = colors.ListedColormap(colors=COLORS)\n",
    "    bounds = [0, 1, 2]\n",
    "    grid = np.reshape(grid, newshape=(int(np.sqrt(grid.size)), int(np.sqrt(grid.size))))\n",
    "    plt.figure(figsize=(8, 4))\n",
    "    plt.title(f\"{grid.shape} grid\")\n",
    "    plt.xticks(np.arange(grid.shape[0] + 1), labels=[])\n",
    "    plt.yticks(np.arange(grid.shape[0] + 1), labels=[])\n",
    "    patches = [\n",
    "        mpatches.Patch(color=COLORS[i], label=f\"{HEALTH_CONDITIONS_IDS[i]}\")\n",
    "        for i in np.arange(3)\n",
    "    ]\n",
    "    plt.legend(handles=patches, bbox_to_anchor=(1.05, 1), loc=2, borderaxespad=0.0)\n",
    "    plt.grid(visible=True, which=\"both\")\n",
    "    plt.imshow(\n",
    "        grid, cmap=cmap, origin=\"lower\", extent=(0, grid.shape[0], 0, grid.shape[0])\n",
    "    )\n",
    "\n",
    "\n",
    "def create_gif(frames: npt.NDArray[np.int8]) -> None:\n",
    "    gif.save(frames, \"example.gif\", duration=200)"
   ]
  },
  {
   "cell_type": "code",
   "execution_count": 6,
   "metadata": {},
   "outputs": [],
   "source": [
    "def spread(val: np.int8, neighbours_health: npt.NDArray[np.int16], conditions: dict) -> np.int8:\n",
    "    prob_contamination: np.float32 = conditions[\"prob_contamination\"]\n",
    "    prob_recovery: np.int32 = conditions[\"prob_recovery\"]\n",
    "    if val == SUSCEPTIBLE and CONTAMINATED in neighbours_health:\n",
    "        if np.random.rand() < prob_contamination:\n",
    "            return CONTAMINATED\n",
    "        else:\n",
    "            return val\n",
    "    elif val == CONTAMINATED:\n",
    "        if np.random.rand() < prob_recovery:\n",
    "            return RECOVERED\n",
    "        else:\n",
    "            return val\n",
    "    else:\n",
    "        return val\n",
    "\n",
    "def generate_epidemic_process(grid: npt.NDArray[np.int8], conditions: dict, number_of_iterations: np.int8 = 10, gif: bool = False) -> npt.NDArray[np.int8]:  \n",
    "    neighbours: npt.NDArray[np.int16] = get_neighbours(grid.size)\n",
    "    frames: list = []\n",
    "    for _ in np.arange(number_of_iterations):\n",
    "        if gif:\n",
    "            frames.append(draw_grid(grid))\n",
    "        grid = np.array([spread(val=val, neighbours_health=grid[neighbours[idx]], conditions=conditions) for idx, val in enumerate(grid)])\n",
    "    create_gif(frames)"
   ]
  },
  {
   "cell_type": "code",
   "execution_count": 7,
   "metadata": {},
   "outputs": [],
   "source": [
    "GRID_SIZE: np.int32 = 1600\n",
    "grid: npt.NDArray[np.int8] = np.random.choice([0], size=(GRID_SIZE))\n",
    "grid[324] = 1\n",
    "grid[651] = 1\n",
    "generate_epidemic_process(grid=grid, conditions=conditions[1], number_of_iterations=50, gif=True)"
   ]
  },
  {
   "attachments": {},
   "cell_type": "markdown",
   "metadata": {},
   "source": [
    "# Condições iniciais da rede\n",
    "\n",
    "De modo a obter uma boa visualização do modelo SIR, uma rede de formato 28x28 foi escolhida, de modo que assim existirão 784 indivíduos na simulação, número mais do que suficiente para analisar o comportamento do modelo para diferentes condições iniciais. Um número de iterações igual a 50 se mostrou um número seguro para garantir a convergência do sistema.\n",
    "\n",
    "No entanto, tais parâmetros são facilmente manipuláveis e, ao fim das análises principais dos exercícios, alguns testes serão feitos testando as diferentes variações possíveis de condição da rede.\n",
    "\n",
    "Em relação ao indivíduo contaminado inicial, sua posição foi escolhida aleatoriamente.\n",
    "\n",
    "# Condições de contaminação e recuperação\n",
    "\n",
    "As três condições de contaminação e recuperação utilizadas no exercício foram escolhidas com o objetivo de testar o comportamento do modelo para três casos principais, os dois extremos, em que a probabilidade de contaminação de um vizinho é de 90% e de recuperação é de 10%, e a situação simétrica, assim como o caso em que ambas probabilidades são 50%."
   ]
  },
  {
   "cell_type": "code",
   "execution_count": null,
   "metadata": {},
   "outputs": [],
   "source": []
  }
 ],
 "metadata": {
  "kernelspec": {
   "display_name": "fisica-estatistica-computacional",
   "language": "python",
   "name": "python3"
  },
  "language_info": {
   "codemirror_mode": {
    "name": "ipython",
    "version": 3
   },
   "file_extension": ".py",
   "mimetype": "text/x-python",
   "name": "python",
   "nbconvert_exporter": "python",
   "pygments_lexer": "ipython3",
   "version": "3.10.11"
  },
  "orig_nbformat": 4
 },
 "nbformat": 4,
 "nbformat_minor": 2
}
